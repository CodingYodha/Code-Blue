{
 "cells": [
  {
   "cell_type": "code",
   "execution_count": null,
   "id": "cf804b33",
   "metadata": {},
   "outputs": [],
   "source": [
    "import torch\n",
    "import onnx\n",
    "from onnx_tf.backend import prepare\n",
    "\n",
    "# Load your YOLO model\n",
    "model = torch.load(r\"E:\\Projects\\Code-Blue\\best.pt\", map_location=torch.device('cpu'))  # Ensure best.pt is in your working directory\n",
    "model.eval()\n",
    "\n",
    "# Export to ONNX\n",
    "onnx_file_path = \"best.onnx\"\n",
    "dummy_input = torch.randn(1, 3, 640, 640)  # Adjust the input size as needed\n",
    "torch.onnx.export(\n",
    "    model,\n",
    "    dummy_input,\n",
    "    onnx_file_path,\n",
    "    export_params=True,\n",
    "    opset_version=11,\n",
    "    input_names=['input'],\n",
    "    output_names=['output']\n",
    ")\n",
    "\n",
    "# Convert ONNX to TensorFlow\n",
    "onnx_model = onnx.load(onnx_file_path)\n",
    "tf_rep = prepare(onnx_model)\n",
    "\n",
    "# Save as Keras model\n",
    "keras_model_path = \"best.keras\"\n",
    "tf_rep.export_graph(keras_model_path)\n",
    "\n",
    "print(f\"Model converted and saved as {keras_model_path}\")\n"
   ]
  }
 ],
 "metadata": {
  "kernelspec": {
   "display_name": "Python 3",
   "language": "python",
   "name": "python3"
  },
  "language_info": {
   "codemirror_mode": {
    "name": "ipython",
    "version": 3
   },
   "file_extension": ".py",
   "mimetype": "text/x-python",
   "name": "python",
   "nbconvert_exporter": "python",
   "pygments_lexer": "ipython3",
   "version": "3.10.0"
  }
 },
 "nbformat": 4,
 "nbformat_minor": 5
}
