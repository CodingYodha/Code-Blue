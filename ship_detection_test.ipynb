{
 "cells": [
  {
   "cell_type": "code",
   "execution_count": 7,
   "id": "5a478108",
   "metadata": {},
   "outputs": [
    {
     "name": "stdout",
     "output_type": "stream",
     "text": [
      "\n",
      "0: 640x640 (no detections), 120.0ms\n",
      "Speed: 3.1ms preprocess, 120.0ms inference, 0.6ms postprocess per image at shape (1, 3, 640, 640)\n"
     ]
    }
   ],
   "source": [
    "from ultralytics import YOLO\n",
    "import cv2\n",
    "\n",
    "# Load the YOLOv8 model (replace with yolov8x.pt for the large model)\n",
    "model = YOLO(r\"E:\\Projects\\Code-Blue\\yolov8x.pt\")\n",
    "\n",
    "# Read the image\n",
    "image_path = r'e:\\Projects\\Code-Blue\\Code-Blue\\image.png'  # Replace with your image's path\n",
    "image = cv2.imread(image_path)\n",
    "\n",
    "# Perform object detection\n",
    "results = model(image)\n",
    "\n",
    "# Visualize the results\n",
    "annotated_image = results[0].plot()  # Annotate the image with detections\n",
    "\n",
    "# Display the annotated image\n",
    "cv2.imshow(\"Detected Objects\", annotated_image)\n",
    "cv2.waitKey(0)\n",
    "cv2.destroyAllWindows()\n"
   ]
  }
 ],
 "metadata": {
  "kernelspec": {
   "display_name": "tf-clean",
   "language": "python",
   "name": "python3"
  },
  "language_info": {
   "codemirror_mode": {
    "name": "ipython",
    "version": 3
   },
   "file_extension": ".py",
   "mimetype": "text/x-python",
   "name": "python",
   "nbconvert_exporter": "python",
   "pygments_lexer": "ipython3",
   "version": "3.10.16"
  }
 },
 "nbformat": 4,
 "nbformat_minor": 5
}
